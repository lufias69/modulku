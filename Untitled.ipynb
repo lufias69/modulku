{
 "cells": [
  {
   "cell_type": "code",
   "execution_count": null,
   "metadata": {},
   "outputs": [],
   "source": [
    "def stemmer_kata(teks):\n",
    "    teks_s = str(teks).split()\n",
    "    for i, kt in enumerate(teks_s):\n",
    "        if kt in last_use_k:\n",
    "            teks_s[i] = last_use_r[last_use_k.index(kt)]\n",
    "        elif kt in last_use_r or kt in last_use_aneh or kt in kata_dasar:\n",
    "            continue\n",
    "        else:\n",
    "            teks_s[i] = stemmer.stem(kt)\n",
    "            if teks_s[i] != kt:\n",
    "                last_use_k.append(kt)\n",
    "                last_use_r.append(teks_s[i])\n",
    "            else:\n",
    "                if kt not in last_use_aneh:\n",
    "                    last_use_aneh.append(kt)\n",
    "    save_kta()\n",
    "    return \" \".join(teks_s)\n",
    "\n",
    "def stop_word(kata):\n",
    "    return stopword.remove(kata)"
   ]
  }
 ],
 "metadata": {
  "kernelspec": {
   "display_name": "Python 3",
   "language": "python",
   "name": "python3"
  },
  "language_info": {
   "codemirror_mode": {
    "name": "ipython",
    "version": 3
   },
   "file_extension": ".py",
   "mimetype": "text/x-python",
   "name": "python",
   "nbconvert_exporter": "python",
   "pygments_lexer": "ipython3",
   "version": "3.7.3"
  }
 },
 "nbformat": 4,
 "nbformat_minor": 2
}
